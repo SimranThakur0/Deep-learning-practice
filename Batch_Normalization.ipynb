{
  "nbformat": 4,
  "nbformat_minor": 0,
  "metadata": {
    "colab": {
      "provenance": [],
      "gpuType": "T4"
    },
    "kernelspec": {
      "name": "python3",
      "display_name": "Python 3"
    },
    "language_info": {
      "name": "python"
    },
    "accelerator": "GPU"
  },
  "cells": [
    {
      "cell_type": "markdown",
      "source": [
        "#before applying batch_normalisation"
      ],
      "metadata": {
        "id": "lSd7841Sdbuj"
      }
    },
    {
      "cell_type": "code",
      "source": [
        "import tensorflow as tf\n",
        "import matplotlib.pyplot as plt\n",
        "import pandas as pd\n",
        "import numpy as np\n",
        "import time"
      ],
      "metadata": {
        "id": "XRnIWQrOdj7j"
      },
      "execution_count": null,
      "outputs": []
    },
    {
      "cell_type": "code",
      "source": [
        "mnist= tf.keras.datasets.mnist\n",
        "(X_train_full, y_train_full), (X_test, y_test) = mnist.load_data()"
      ],
      "metadata": {
        "colab": {
          "base_uri": "https://localhost:8080/"
        },
        "id": "1NOKmS2hdkdm",
        "outputId": "bfe2d2ae-43db-4c72-86c0-e721d15d50f2"
      },
      "execution_count": null,
      "outputs": [
        {
          "output_type": "stream",
          "name": "stdout",
          "text": [
            "Downloading data from https://storage.googleapis.com/tensorflow/tf-keras-datasets/mnist.npz\n",
            "11490434/11490434 [==============================] - 2s 0us/step\n"
          ]
        }
      ]
    },
    {
      "cell_type": "code",
      "source": [
        "# Applying Min Max scaler\n",
        "X_valid, X_train = X_train_full[:5000]/255. , X_train_full[5000:]/255.\n",
        "y_valid, y_train = y_train_full[:5000], y_train_full[5000:]\n",
        "\n",
        "#scale test data\n",
        "X_test = X_test/255."
      ],
      "metadata": {
        "id": "1tg9rnSzdkoa"
      },
      "execution_count": null,
      "outputs": []
    },
    {
      "cell_type": "code",
      "source": [
        "Layer = [\n",
        "         tf.keras.layers.Flatten(input_shape=[28,28]),\n",
        "         tf.keras.layers.Dense(300, kernel_initializer=\"he_normal\"),\n",
        "         tf.keras.layers.LeakyReLU(),\n",
        "         tf.keras.layers.Dense(100, kernel_initializer=\"he_normal\"),\n",
        "         tf.keras.layers.LeakyReLU(),\n",
        "         tf.keras.layers.Dense(10, activation=\"softmax\")\n",
        "\n",
        "         ]\n",
        "\n",
        "model = tf.keras.models.Sequential(Layer)"
      ],
      "metadata": {
        "id": "wxi1UVOAdkrc"
      },
      "execution_count": null,
      "outputs": []
    },
    {
      "cell_type": "code",
      "source": [
        "model.compile(loss=\"sparse_categorical_crossentropy\", optimizer=tf.keras.optimizers.SGD(learning_rate = 1e-3), metrics=[\"accuracy\"])"
      ],
      "metadata": {
        "id": "ROhVGTmQdkup"
      },
      "execution_count": null,
      "outputs": []
    },
    {
      "cell_type": "code",
      "source": [
        "model.summary()"
      ],
      "metadata": {
        "colab": {
          "base_uri": "https://localhost:8080/"
        },
        "id": "VKay_4d9dkx6",
        "outputId": "bbaf165f-9823-4539-cb47-75a6d888b682"
      },
      "execution_count": null,
      "outputs": [
        {
          "output_type": "stream",
          "name": "stdout",
          "text": [
            "Model: \"sequential\"\n",
            "_________________________________________________________________\n",
            " Layer (type)                Output Shape              Param #   \n",
            "=================================================================\n",
            " flatten_2 (Flatten)         (None, 784)               0         \n",
            "                                                                 \n",
            " dense (Dense)               (None, 300)               235500    \n",
            "                                                                 \n",
            " leaky_re_lu (LeakyReLU)     (None, 300)               0         \n",
            "                                                                 \n",
            " dense_1 (Dense)             (None, 100)               30100     \n",
            "                                                                 \n",
            " leaky_re_lu_1 (LeakyReLU)   (None, 100)               0         \n",
            "                                                                 \n",
            " dense_2 (Dense)             (None, 10)                1010      \n",
            "                                                                 \n",
            "=================================================================\n",
            "Total params: 266610 (1.02 MB)\n",
            "Trainable params: 266610 (1.02 MB)\n",
            "Non-trainable params: 0 (0.00 Byte)\n",
            "_________________________________________________________________\n"
          ]
        }
      ]
    },
    {
      "cell_type": "code",
      "source": [
        "start = time.time()\n",
        "\n",
        "history = model.fit(X_train, y_train, epochs=10, validation_data=(X_valid, y_valid))\n",
        "\n",
        "end = time.time()\n",
        "print(end-start)"
      ],
      "metadata": {
        "colab": {
          "base_uri": "https://localhost:8080/"
        },
        "id": "kbFEfAb6dk1W",
        "outputId": "3036c376-773c-4c12-a7c6-f037d1239586"
      },
      "execution_count": null,
      "outputs": [
        {
          "output_type": "stream",
          "name": "stdout",
          "text": [
            "Epoch 1/10\n",
            "1719/1719 [==============================] - 8s 4ms/step - loss: 1.5649 - accuracy: 0.5878 - val_loss: 0.9654 - val_accuracy: 0.7990\n",
            "Epoch 2/10\n",
            "1719/1719 [==============================] - 5s 3ms/step - loss: 0.7647 - accuracy: 0.8250 - val_loss: 0.6063 - val_accuracy: 0.8536\n",
            "Epoch 3/10\n",
            "1719/1719 [==============================] - 6s 3ms/step - loss: 0.5542 - accuracy: 0.8593 - val_loss: 0.4848 - val_accuracy: 0.8742\n",
            "Epoch 4/10\n",
            "1719/1719 [==============================] - 6s 3ms/step - loss: 0.4690 - accuracy: 0.8755 - val_loss: 0.4242 - val_accuracy: 0.8874\n",
            "Epoch 5/10\n",
            "1719/1719 [==============================] - 5s 3ms/step - loss: 0.4221 - accuracy: 0.8846 - val_loss: 0.3881 - val_accuracy: 0.8944\n",
            "Epoch 6/10\n",
            "1719/1719 [==============================] - 6s 4ms/step - loss: 0.3918 - accuracy: 0.8911 - val_loss: 0.3633 - val_accuracy: 0.8986\n",
            "Epoch 7/10\n",
            "1719/1719 [==============================] - 5s 3ms/step - loss: 0.3702 - accuracy: 0.8966 - val_loss: 0.3450 - val_accuracy: 0.9026\n",
            "Epoch 8/10\n",
            "1719/1719 [==============================] - 6s 4ms/step - loss: 0.3535 - accuracy: 0.9002 - val_loss: 0.3308 - val_accuracy: 0.9072\n",
            "Epoch 9/10\n",
            "1719/1719 [==============================] - 5s 3ms/step - loss: 0.3402 - accuracy: 0.9041 - val_loss: 0.3185 - val_accuracy: 0.9104\n",
            "Epoch 10/10\n",
            "1719/1719 [==============================] - 6s 4ms/step - loss: 0.3290 - accuracy: 0.9073 - val_loss: 0.3082 - val_accuracy: 0.9134\n",
            "60.73360013961792\n"
          ]
        }
      ]
    },
    {
      "cell_type": "markdown",
      "source": [
        "#After applying batch normalization"
      ],
      "metadata": {
        "id": "uy2kHxvciK7w"
      }
    },
    {
      "cell_type": "code",
      "source": [
        "del model"
      ],
      "metadata": {
        "id": "NIQELC5XiSWH"
      },
      "execution_count": null,
      "outputs": []
    },
    {
      "cell_type": "code",
      "source": [
        "Layer = [\n",
        "         tf.keras.layers.Flatten(input_shape=[28,28]),\n",
        "         tf.keras.layers.BatchNormalization(),\n",
        "         tf.keras.layers.Dense(300, kernel_initializer=\"he_normal\"),\n",
        "         tf.keras.layers.LeakyReLU(),\n",
        "         tf.keras.layers.BatchNormalization(),\n",
        "         tf.keras.layers.Dense(100, kernel_initializer=\"he_normal\"),\n",
        "         tf.keras.layers.LeakyReLU(),\n",
        "         tf.keras.layers.BatchNormalization(),\n",
        "         tf.keras.layers.Dense(10, activation=\"softmax\")\n",
        "\n",
        "         ]\n",
        "\n",
        "model = tf.keras.models.Sequential(Layer)"
      ],
      "metadata": {
        "id": "jSlx0xpMiSjG"
      },
      "execution_count": null,
      "outputs": []
    },
    {
      "cell_type": "code",
      "source": [
        "model.summary()"
      ],
      "metadata": {
        "colab": {
          "base_uri": "https://localhost:8080/"
        },
        "id": "8C32pWIsiSoP",
        "outputId": "c45910fc-8a02-4376-f4d5-d6f7997ad0fc"
      },
      "execution_count": null,
      "outputs": [
        {
          "output_type": "stream",
          "name": "stdout",
          "text": [
            "Model: \"sequential_1\"\n",
            "_________________________________________________________________\n",
            " Layer (type)                Output Shape              Param #   \n",
            "=================================================================\n",
            " flatten_3 (Flatten)         (None, 784)               0         \n",
            "                                                                 \n",
            " batch_normalization (Batch  (None, 784)               3136      \n",
            " Normalization)                                                  \n",
            "                                                                 \n",
            " dense_3 (Dense)             (None, 300)               235500    \n",
            "                                                                 \n",
            " leaky_re_lu_2 (LeakyReLU)   (None, 300)               0         \n",
            "                                                                 \n",
            " batch_normalization_1 (Bat  (None, 300)               1200      \n",
            " chNormalization)                                                \n",
            "                                                                 \n",
            " dense_4 (Dense)             (None, 100)               30100     \n",
            "                                                                 \n",
            " leaky_re_lu_3 (LeakyReLU)   (None, 100)               0         \n",
            "                                                                 \n",
            " batch_normalization_2 (Bat  (None, 100)               400       \n",
            " chNormalization)                                                \n",
            "                                                                 \n",
            " dense_5 (Dense)             (None, 10)                1010      \n",
            "                                                                 \n",
            "=================================================================\n",
            "Total params: 271346 (1.04 MB)\n",
            "Trainable params: 268978 (1.03 MB)\n",
            "Non-trainable params: 2368 (9.25 KB)\n",
            "_________________________________________________________________\n"
          ]
        }
      ]
    },
    {
      "cell_type": "code",
      "source": [
        "model.compile(loss=\"sparse_categorical_crossentropy\", optimizer=tf.keras.optimizers.SGD(learning_rate = 1e-3), metrics=[\"accuracy\"])"
      ],
      "metadata": {
        "id": "8gtOSdYoiSwM"
      },
      "execution_count": null,
      "outputs": []
    },
    {
      "cell_type": "code",
      "source": [
        "start = time.time()\n",
        "\n",
        "history = model.fit(X_train, y_train, epochs=10, validation_data=(X_valid, y_valid))\n",
        "\n",
        "end = time.time()\n",
        "print(end-start)"
      ],
      "metadata": {
        "colab": {
          "base_uri": "https://localhost:8080/"
        },
        "id": "frHLIUlZiSzn",
        "outputId": "b49d3a21-b42a-46b9-ce36-70caab7589c0"
      },
      "execution_count": null,
      "outputs": [
        {
          "output_type": "stream",
          "name": "stdout",
          "text": [
            "Epoch 1/10\n",
            "1719/1719 [==============================] - 12s 6ms/step - loss: 0.8997 - accuracy: 0.7269 - val_loss: 0.4878 - val_accuracy: 0.8618\n",
            "Epoch 2/10\n",
            "1719/1719 [==============================] - 9s 5ms/step - loss: 0.4755 - accuracy: 0.8642 - val_loss: 0.3743 - val_accuracy: 0.8936\n",
            "Epoch 3/10\n",
            "1719/1719 [==============================] - 9s 5ms/step - loss: 0.4043 - accuracy: 0.8832 - val_loss: 0.3262 - val_accuracy: 0.9078\n",
            "Epoch 4/10\n",
            "1719/1719 [==============================] - 8s 5ms/step - loss: 0.3638 - accuracy: 0.8951 - val_loss: 0.3005 - val_accuracy: 0.9156\n",
            "Epoch 5/10\n",
            "1719/1719 [==============================] - 9s 5ms/step - loss: 0.3386 - accuracy: 0.9024 - val_loss: 0.2792 - val_accuracy: 0.9218\n",
            "Epoch 6/10\n",
            "1719/1719 [==============================] - 9s 5ms/step - loss: 0.3202 - accuracy: 0.9067 - val_loss: 0.2653 - val_accuracy: 0.9256\n",
            "Epoch 7/10\n",
            "1719/1719 [==============================] - 8s 5ms/step - loss: 0.3013 - accuracy: 0.9121 - val_loss: 0.2522 - val_accuracy: 0.9300\n",
            "Epoch 8/10\n",
            "1719/1719 [==============================] - 10s 6ms/step - loss: 0.2909 - accuracy: 0.9169 - val_loss: 0.2423 - val_accuracy: 0.9318\n",
            "Epoch 9/10\n",
            "1719/1719 [==============================] - 9s 5ms/step - loss: 0.2799 - accuracy: 0.9189 - val_loss: 0.2343 - val_accuracy: 0.9326\n",
            "Epoch 10/10\n",
            "1719/1719 [==============================] - 9s 5ms/step - loss: 0.2687 - accuracy: 0.9222 - val_loss: 0.2281 - val_accuracy: 0.9356\n",
            "143.28592658042908\n"
          ]
        }
      ]
    }
  ]
}